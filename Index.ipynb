{
 "cells": [
  {
   "cell_type": "markdown",
   "metadata": {},
   "source": [
    "# Emotion Sentiment Analysis"
   ]
  },
  {
   "cell_type": "markdown",
   "metadata": {},
   "source": [
    "## Introduction\n",
    "The purpose of this project is to create a statistical model that can identify the emotional sentiment of a short sentence as accurately as possible. The possible scope of this project is greatly restrained by the dataset that was chosen, as it only includes 6 emotional sentiments for the algorithm to identify. In reality emotional sentiment is very nuanced and there are much more than just 6 emotional sentiments that one may express, but the simplicity of this dataset will make it easier for me to experiment and learn in the course of this project. \n",
    "\n",
    "This project is ultimately for my own learning, but it is reasonable that there may be practical application for the model that it created. This model may be effectively used as a step in a pipeline for an automated bot that provides moderation services. It may also be used in the process of gathering a large corpus of text for a different machine learning project by providing a light-weight classifier that will allow a scraper to gather a lot of text from the internet that expresses certain sentiments.\n",
    "\n",
    "As previously stated, the text samples are divided into 6 categories depending on their emotional sentiment: Anger, Sadness, Love, Joy, Fear, and Surprise. These sentiments are quite generalized, and most other emotions that people express in a typical discourse can be grouped into one of them. For this reason, they are a good representation of a generalized emotional range. The data was retrieved from [Kaggle](https://www.kaggle.com/datasets/praveengovi/emotions-dataset-for-nlp). The original uploader has already processed and cleaned the data, rendering it into a format that is ready for tokenization and analysis via machine learning. The data has also already been split into training, validation, and test sets of appropriate size, so it will not be necessary to perform any splits before or during the training process."
   ]
  },
  {
   "cell_type": "code",
   "execution_count": 1,
   "metadata": {},
   "outputs": [],
   "source": [
    "import pandas as pd\n",
    "import matplotlib.pyplot as plt\n",
    "import numpy as np"
   ]
  },
  {
   "cell_type": "markdown",
   "metadata": {},
   "source": [
    "## Exploratory Data Analysis\n",
    "\n",
    "Before we start training any models, I want to explore the data a little bit to see if I can identify any patterns or learn something that will affect how I go about training my models and ultimately analyzing their results. Let's start by loading the separate data files, previewing them, and then combining them back into the original full dataset to get the whole picture of what's going on in it."
   ]
  },
  {
   "cell_type": "code",
   "execution_count": 2,
   "metadata": {},
   "outputs": [
    {
     "data": {
      "text/plain": [
       "(                                                Text    Label\n",
       " 0                            i didnt feel humiliated  sadness\n",
       " 1  i can go from feeling so hopeless to so damned...  sadness\n",
       " 2   im grabbing a minute to post i feel greedy wrong    anger\n",
       " 3  i am ever feeling nostalgic about the fireplac...     love\n",
       " 4                               i am feeling grouchy    anger,\n",
       "                                                 Text    Label\n",
       " 0  im feeling rather rotten so im not very ambiti...  sadness\n",
       " 1          im updating my blog because i feel shitty  sadness\n",
       " 2  i never make her separate from me because i do...  sadness\n",
       " 3  i left with my bouquet of red and yellow tulip...      joy\n",
       " 4    i was feeling a little vain when i did this one  sadness,\n",
       "                                                 Text    Label\n",
       " 0  im feeling quite sad and sorry for myself but ...  sadness\n",
       " 1  i feel like i am still looking at a blank canv...  sadness\n",
       " 2                     i feel like a faithful servant     love\n",
       " 3                  i am just feeling cranky and blue    anger\n",
       " 4  i can have for a treat or if i am feeling festive      joy)"
      ]
     },
     "execution_count": 2,
     "metadata": {},
     "output_type": "execute_result"
    }
   ],
   "source": [
    "# Load the datasets\n",
    "train_df = pd.read_csv('data/train.txt', sep=\";\", header=None, names=[\"Text\", \"Label\"])\n",
    "test_df = pd.read_csv('data/test.txt', sep=\";\", header=None, names=[\"Text\", \"Label\"])\n",
    "val_df = pd.read_csv('data/val.txt', sep=\";\", header=None, names=[\"Text\", \"Label\"])\n",
    "\n",
    "# Display the first few rows of each dataset to understand their structure\n",
    "train_df.head(), test_df.head(), val_df.head()"
   ]
  },
  {
   "cell_type": "code",
   "execution_count": 3,
   "metadata": {
    "scrolled": false
   },
   "outputs": [
    {
     "data": {
      "image/png": "[encoded data removed]",
      "text/plain": [
       "<Figure size 720x432 with 1 Axes>"
      ]
     },
     "metadata": {
      "needs_background": "light"
     },
     "output_type": "display_data"
    }
   ],
   "source": [
    "# Combining all datasets to analyze the overall distribution\n",
    "combined_df = pd.concat([train_df, test_df, val_df])\n",
    "\n",
    "# Counting the occurrences of each label in the combined dataset\n",
    "label_distribution = combined_df['Label'].value_counts()\n",
    "\n",
    "# Plotting the distribution\n",
    "plt.figure(figsize=(10, 6))\n",
    "label_distribution.plot(kind='bar')\n",
    "plt.title('Distribution of Sentiment Labels Across the Entire Dataset')\n",
    "plt.xlabel('Sentiment Label')\n",
    "plt.ylabel('Count')\n",
    "plt.xticks(rotation=45)\n",
    "plt.show()"
   ]
  },
  {
   "cell_type": "markdown",
   "metadata": {},
   "source": [
    "Across the entire dataset, there is a significant imbalance between the labels. Joy and Sadness each seem to be roughly twice as common as anger and fear, with love and surprise trailing behind them. If we later find that the models are struggling to identify surprise, love, anger, and fear, we may try implementing some sort of class imbalance correction to improve the issue. We can also identify that there are only 6 unique labels in the data, as previously mentioned.\n",
    "\n",
    "Something else which may affect the results is the length of text samples in the dataset. Let's find the average length and standard deviation of length within each set of the data to ensure they are roughly to same."
   ]
  },
  {
   "cell_type": "code",
   "execution_count": 4,
   "metadata": {},
   "outputs": [],
   "source": [
    "from collections import Counter\n",
    "\n",
    "# Function to calculate the average length and standard deviation of text samples\n",
    "def calculate_text_statistics(df):\n",
    "    lengths = df['Text'].str.len()\n",
    "    avg_length = lengths.mean()\n",
    "    std_dev_length = lengths.std()\n",
    "    return avg_length, std_dev_length\n",
    "\n",
    "\n",
    "# Calculating statistics for each dataset\n",
    "avg_length_train, std_dev_train = calculate_text_statistics(train_df)\n",
    "avg_length_test, std_dev_test = calculate_text_statistics(test_df)\n",
    "avg_length_val, std_dev_val = calculate_text_statistics(val_df)"
   ]
  },
  {
   "cell_type": "code",
   "execution_count": 5,
   "metadata": {},
   "outputs": [
    {
     "name": "stdout",
     "output_type": "stream",
     "text": [
      "Average Length of training sample: 96.8458125\n",
      "Standard deviation of training sample length: 55.904952812332766\n"
     ]
    }
   ],
   "source": [
    "print(\"Average Length of training sample:\", avg_length_train)\n",
    "print(\"Standard deviation of training sample length:\", std_dev_train)"
   ]
  },
  {
   "cell_type": "code",
   "execution_count": 6,
   "metadata": {},
   "outputs": [
    {
     "name": "stdout",
     "output_type": "stream",
     "text": [
      "Average Length of test sample: 96.5865\n",
      "Standard deviation of test sample length: 55.71599100417033\n"
     ]
    }
   ],
   "source": [
    "print(\"Average Length of test sample:\", avg_length_test)\n",
    "print(\"Standard deviation of test sample length:\", std_dev_test)"
   ]
  },
  {
   "cell_type": "code",
   "execution_count": 7,
   "metadata": {
    "scrolled": true
   },
   "outputs": [
    {
     "name": "stdout",
     "output_type": "stream",
     "text": [
      "Average Length of valuation sample: 95.3475\n",
      "Standard deviation of valuation sample length: 54.82375913810559\n"
     ]
    }
   ],
   "source": [
    "print(\"Average Length of valuation sample:\", avg_length_val)\n",
    "print(\"Standard deviation of valuation sample length:\", std_dev_val)"
   ]
  },
  {
   "cell_type": "markdown",
   "metadata": {},
   "source": [
    "Looks like everything is in order. The uploader's splitting of the data does not seem to have produced any imbalance between the splits. \n",
    "\n",
    "Next, let's look for additional features within the text that may later help our model to identify which category of data a given sample fits into. There are probably at least a few words that are unique to each sentiment, so let's try to programmatically create a list of those words."
   ]
  },
  {
   "cell_type": "code",
   "execution_count": 8,
   "metadata": {},
   "outputs": [],
   "source": [
    "# Function to find unique words associated with each label\n",
    "def find_unique_words(df):\n",
    "    unique_words = {}\n",
    "    labels = df['Label'].unique()\n",
    "    for label in labels:\n",
    "        words = ' '.join(df[df['Label'] == label]['Text']).split()\n",
    "        word_counts = Counter(words)\n",
    "        for other_label in labels:\n",
    "            if other_label != label:\n",
    "                other_words = ' '.join(df[df['Label'] == other_label]['Text']).split()\n",
    "                word_counts -= Counter(other_words)\n",
    "        unique_words[label] = [word for word, count in word_counts.items() if count > 0]\n",
    "    return unique_words"
   ]
  },
  {
   "cell_type": "code",
   "execution_count": 15,
   "metadata": {
    "scrolled": true
   },
   "outputs": [],
   "source": [
    "# Finding unique words for the combined dataset\n",
    "unique_words = find_unique_words(combined_df)"
   ]
  },
  {
   "cell_type": "markdown",
   "metadata": {},
   "source": [
    "This list of words is excessively long - way too long to be useful to us as is. Later on, we may decide to pick just 1-2 unique words to associate with each category and the one-hot encode their presence in the data across all the splits, depending on how well the model performs without this optimization. First, let's visualize how many unique words are present in each label."
   ]
  },
  {
   "cell_type": "code",
   "execution_count": 10,
   "metadata": {
    "scrolled": false
   },
   "outputs": [
    {
     "data": {
      "image/png": "[encoded data removed]",
      "text/plain": [
       "<Figure size 720x432 with 1 Axes>"
      ]
     },
     "metadata": {
      "needs_background": "light"
     },
     "output_type": "display_data"
    },
    {
     "data": {
      "text/plain": [
       "{'sadness': 2861,\n",
       " 'anger': 1421,\n",
       " 'love': 990,\n",
       " 'surprise': 373,\n",
       " 'fear': 1118,\n",
       " 'joy': 4798}"
      ]
     },
     "execution_count": 10,
     "metadata": {},
     "output_type": "execute_result"
    }
   ],
   "source": [
    "# Calculating the number of unique words for each label\n",
    "unique_word_counts = {label: len(words) for label, words in unique_words.items()}\n",
    "\n",
    "# Plotting the number of unique words for each label\n",
    "plt.figure(figsize=(10, 6))\n",
    "plt.bar(unique_word_counts.keys(), unique_word_counts.values())\n",
    "plt.title('Number of Unique Words Associated with Each Label')\n",
    "plt.xlabel('Sentiment Label')\n",
    "plt.ylabel('Number of Unique Words')\n",
    "plt.xticks(rotation=45)\n",
    "plt.show()\n",
    "\n",
    "unique_word_counts"
   ]
  },
  {
   "cell_type": "markdown",
   "metadata": {},
   "source": [
    "## Data Cleaning?"
   ]
  },
  {
   "cell_type": "markdown",
   "metadata": {},
   "source": [
    "This data has come pre-cleaned and prepared for any type of machine learning we may want to do. The only step we have to do is split the dataframes into X and y sets. After this, we will be prepared to create our first model!"
   ]
  },
  {
   "cell_type": "code",
   "execution_count": 11,
   "metadata": {},
   "outputs": [],
   "source": [
    "# Split the training data\n",
    "X_train = train_df['Text']\n",
    "y_train = train_df.drop('Text', axis=1)\n",
    "\n",
    "# Split the test data\n",
    "X_test = test_df['Text']\n",
    "y_test = test_df.drop('Text', axis=1)\n",
    "\n",
    "# Split the validation data\n",
    "X_val = val_df['Text']\n",
    "y_val = val_df.drop('Text', axis=1)"
   ]
  },
  {
   "cell_type": "markdown",
   "metadata": {},
   "source": [
    "## Tokenization\n",
    "\n",
    "One of the most important decisions we have to make during this project is what kind of tokenziation to use. The most effective tokenization method depends on which type of model we are creating. Let's start with a simple modeling technique first - we'll use a naive bayes model, which will benefit from using tf-idf tokenization."
   ]
  },
  {
   "cell_type": "code",
   "execution_count": 12,
   "metadata": {},
   "outputs": [],
   "source": [
    "from sklearn.feature_extraction.text import TfidfVectorizer\n",
    "import nltk\n",
    "nltk.download('stopwords', quiet=True)\n",
    "from nltk.corpus import stopwords\n",
    "\n",
    "# Using the nltk list of stopwords to remove stopwords from the data\n",
    "stopwords_list = stopwords.words('english')\n",
    "\n",
    "# Instantiate the vectorizer and fit it to the training data/vectorize it. We constrain the vectorizer to 100 max features to ensure\n",
    "# the training process runs quickly.\n",
    "tfidf = TfidfVectorizer(max_features=100, stop_words=stopwords_list)\n",
    "X_train_vectorized = tfidf.fit_transform(X_train)\n",
    "X_val_vectorized = tfidf.transform(X_val)"
   ]
  },
  {
   "cell_type": "code",
   "execution_count": 13,
   "metadata": {},
   "outputs": [
    {
     "name": "stderr",
     "output_type": "stream",
     "text": [
      "C:\\Users\\David\\anaconda3\\envs\\learn-env\\lib\\site-packages\\sklearn\\utils\\validation.py:72: DataConversionWarning: A column-vector y was passed when a 1d array was expected. Please change the shape of y to (n_samples, ), for example using ravel().\n",
      "  return f(**kwargs)\n"
     ]
    },
    {
     "data": {
      "text/plain": [
       "0.3645"
      ]
     },
     "execution_count": 13,
     "metadata": {},
     "output_type": "execute_result"
    }
   ],
   "source": [
    "from sklearn.naive_bayes import MultinomialNB\n",
    "\n",
    "# Instantiate a MultinomialNB classifier and fit it to the training data\n",
    "baseline_model = MultinomialNB()\n",
    "baseline_model.fit(X_train_vectorized, y_train)\n",
    "\n",
    "# Evaluate the baseline model's accuracy score using the validation set\n",
    "baseline_model.score(X_val_vectorized, y_val)"
   ]
  }
 ],
 "metadata": {
  "kernelspec": {
   "display_name": "Python (learn-env)",
   "language": "python",
   "name": "learn-env"
  },
  "language_info": {
   "codemirror_mode": {
    "name": "ipython",
    "version": 3
   },
   "file_extension": ".py",
   "mimetype": "text/x-python",
   "name": "python",
   "nbconvert_exporter": "python",
   "pygments_lexer": "ipython3",
   "version": "3.8.5"
  }
 },
 "nbformat": 4,
 "nbformat_minor": 4
}
